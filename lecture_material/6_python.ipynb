{
 "cells": [
  {
   "cell_type": "markdown",
   "id": "b898a7cf",
   "metadata": {},
   "source": [
    "# Coding is Just Coding \n",
    "\n",
    "Once you learn one coding language, you can read (and sometimes even write) in a lot of other coding languages. Today we're going to go through how to code what we did on the first day in Python, so that we see how the syntax is slightly different, but you can still read a lot of it. The point of this is to realize that if someone hands you a code script in a different language, you shouldn't freak out. \n",
    "\n",
    "## Getting started \n",
    "\n",
    "In R Studio, create a python script. This will require the `retriculate` package and you may also need to install the `IRkernel` package, as well. \n",
    "\n",
    "We're now going to go through what we did on day one. \n",
    "\n",
    "# Basic Data Types"
   ]
  },
  {
   "cell_type": "code",
   "execution_count": 14,
   "id": "ea948510",
   "metadata": {},
   "outputs": [],
   "source": [
    "# Andie Creel / January 2024 / Goal: Redo day one in python\n",
    "\n",
    "# Run basic arithmatic \n",
    "\n",
    "2 + 3\n",
    "\n",
    "# variable assingment is done with an '=' sign, instead of the '<-' sign\n",
    "a = 2\n",
    "b = 3\n",
    "\n",
    "a + b \n",
    "\n",
    "\n",
    "# Numeric -- integer: no decimal points\n",
    "myInt = 1\n",
    "\n",
    "# Numeric -- floating point: decimal points\n",
    "myNum = 2.4\n",
    "\n",
    "# logical (Boolean): a true/false statement. Use parentheses to evaluate if something is true or false\n",
    "myBool_1 = (3 < 4)\n",
    "myBool_2 = (3 > 4)\n",
    "\n",
    "# character (string)\n",
    "myChar_a = \"a\"\n",
    "myChar_b = 'b'\n"
   ]
  },
  {
   "cell_type": "markdown",
   "id": "bcab286a",
   "metadata": {},
   "source": [
    "# Ways to store datatypes  \n",
    "\n",
    "You will need to install the `numpy` package by running `pip install numpy` in the terminal. NumPy is the main package for scientific computing in python. \n",
    "\n",
    "## Vectors and Matrices\n",
    "\n",
    "Notice that indexing in python starts at 0, rather than 1 (as it did in R). In python, we just use lists instead of vectors. "
   ]
  },
  {
   "cell_type": "code",
   "execution_count": 63,
   "id": "15a806c4",
   "metadata": {},
   "outputs": [
    {
     "name": "stdout",
     "output_type": "stream",
     "text": [
      "1\n",
      "str\n",
      "['str', 1, True]\n"
     ]
    }
   ],
   "source": [
    "import numpy as np\n",
    "\n",
    "# Lists can contain elements of different data types\n",
    "myVec_n = [1, 2, 3, 4, 5] \n",
    "print(myVec_n[0])\n",
    "\n",
    "myVec_s = [\"str\", \"b\", \"c\"]\n",
    "print(myVec_s[0])\n",
    "\n",
    "myVec_all = [\"str\", 1, True]\n",
    "print(myVec_all)\n",
    "\n"
   ]
  },
  {
   "cell_type": "code",
   "execution_count": null,
   "id": "d7e0aa9d",
   "metadata": {},
   "outputs": [],
   "source": [
    "\n",
    "# NumPy array (similar to R matrix): should contain elements of the same data type\n",
    "# In this case, we're creating a 2x5 matrix\n",
    "# the . here works similar to %>% in dplyr \n",
    "myMat_n = np.array([1, 2, 3, 4, 5, 6, 7, 8, 9, 10]).reshape(2, 5)\n",
    "myMat_n"
   ]
  },
  {
   "cell_type": "markdown",
   "id": "e461cdc3",
   "metadata": {},
   "source": [
    "## Lists"
   ]
  },
  {
   "cell_type": "code",
   "execution_count": 32,
   "id": "a6273eef",
   "metadata": {},
   "outputs": [
    {
     "data": {
      "text/plain": [
       "2"
      ]
     },
     "execution_count": 32,
     "metadata": {},
     "output_type": "execute_result"
    }
   ],
   "source": [
    "# Lists: Can contain elements of different data types, including other lists or arrays\n",
    "myList = [2, \"c\", myMat_n]\n",
    "\n",
    "# Accessing the first element of the list\n",
    "myList[0]  # returns numeric (2 in this case)\n"
   ]
  },
  {
   "cell_type": "code",
   "execution_count": 33,
   "id": "059fe833",
   "metadata": {},
   "outputs": [
    {
     "data": {
      "text/plain": [
       "'c'"
      ]
     },
     "execution_count": 33,
     "metadata": {},
     "output_type": "execute_result"
    }
   ],
   "source": [
    "myList[1] # returns C"
   ]
  },
  {
   "cell_type": "code",
   "execution_count": 34,
   "id": "e9f6385e",
   "metadata": {},
   "outputs": [
    {
     "data": {
      "text/plain": [
       "array([[ 1,  2,  3,  4,  5],\n",
       "       [ 6,  7,  8,  9, 10]])"
      ]
     },
     "execution_count": 34,
     "metadata": {},
     "output_type": "execute_result"
    }
   ],
   "source": [
    "myList[2] # returns the matrix"
   ]
  },
  {
   "cell_type": "markdown",
   "id": "91226884",
   "metadata": {},
   "source": [
    "## Data frames\n",
    "\n",
    "To work with data frames, we need to install and load the `pandas` package. Run `pip install pandas` in your terminal. "
   ]
  },
  {
   "cell_type": "code",
   "execution_count": 35,
   "id": "63e0bdf9",
   "metadata": {},
   "outputs": [
    {
     "data": {
      "text/html": [
       "<div>\n",
       "<style scoped>\n",
       "    .dataframe tbody tr th:only-of-type {\n",
       "        vertical-align: middle;\n",
       "    }\n",
       "\n",
       "    .dataframe tbody tr th {\n",
       "        vertical-align: top;\n",
       "    }\n",
       "\n",
       "    .dataframe thead th {\n",
       "        text-align: right;\n",
       "    }\n",
       "</style>\n",
       "<table border=\"1\" class=\"dataframe\">\n",
       "  <thead>\n",
       "    <tr style=\"text-align: right;\">\n",
       "      <th></th>\n",
       "      <th>0</th>\n",
       "      <th>1</th>\n",
       "      <th>2</th>\n",
       "      <th>3</th>\n",
       "      <th>4</th>\n",
       "    </tr>\n",
       "  </thead>\n",
       "  <tbody>\n",
       "    <tr>\n",
       "      <th>0</th>\n",
       "      <td>1</td>\n",
       "      <td>2</td>\n",
       "      <td>3</td>\n",
       "      <td>4</td>\n",
       "      <td>5</td>\n",
       "    </tr>\n",
       "    <tr>\n",
       "      <th>1</th>\n",
       "      <td>6</td>\n",
       "      <td>7</td>\n",
       "      <td>8</td>\n",
       "      <td>9</td>\n",
       "      <td>10</td>\n",
       "    </tr>\n",
       "  </tbody>\n",
       "</table>\n",
       "</div>"
      ],
      "text/plain": [
       "   0  1  2  3   4\n",
       "0  1  2  3  4   5\n",
       "1  6  7  8  9  10"
      ]
     },
     "execution_count": 35,
     "metadata": {},
     "output_type": "execute_result"
    }
   ],
   "source": [
    "import pandas as pd \n",
    "\n",
    "# Create a DataFrame from the NumPy array\n",
    "myDF = pd.DataFrame(myMat_n)\n",
    "myDF\n"
   ]
  },
  {
   "cell_type": "code",
   "execution_count": 36,
   "id": "9fb8b7e2",
   "metadata": {},
   "outputs": [
    {
     "name": "stdout",
     "output_type": "stream",
     "text": [
      "RangeIndex(start=0, stop=5, step=1)\n"
     ]
    }
   ],
   "source": [
    "# Print column names (initially they are just integer indices)\n",
    "print(myDF.columns)"
   ]
  },
  {
   "cell_type": "markdown",
   "id": "054e4e84",
   "metadata": {},
   "source": [
    "Unlike R, python automatically names unamed columns with integrers. "
   ]
  },
  {
   "cell_type": "code",
   "execution_count": 37,
   "id": "033456c0",
   "metadata": {},
   "outputs": [
    {
     "data": {
      "text/html": [
       "<div>\n",
       "<style scoped>\n",
       "    .dataframe tbody tr th:only-of-type {\n",
       "        vertical-align: middle;\n",
       "    }\n",
       "\n",
       "    .dataframe tbody tr th {\n",
       "        vertical-align: top;\n",
       "    }\n",
       "\n",
       "    .dataframe thead th {\n",
       "        text-align: right;\n",
       "    }\n",
       "</style>\n",
       "<table border=\"1\" class=\"dataframe\">\n",
       "  <thead>\n",
       "    <tr style=\"text-align: right;\">\n",
       "      <th></th>\n",
       "      <th>age_yr</th>\n",
       "      <th>weight_lb</th>\n",
       "      <th>income_$</th>\n",
       "      <th>height_ft</th>\n",
       "      <th>height_in</th>\n",
       "    </tr>\n",
       "  </thead>\n",
       "  <tbody>\n",
       "    <tr>\n",
       "      <th>0</th>\n",
       "      <td>1</td>\n",
       "      <td>2</td>\n",
       "      <td>3</td>\n",
       "      <td>4</td>\n",
       "      <td>5</td>\n",
       "    </tr>\n",
       "    <tr>\n",
       "      <th>1</th>\n",
       "      <td>6</td>\n",
       "      <td>7</td>\n",
       "      <td>8</td>\n",
       "      <td>9</td>\n",
       "      <td>10</td>\n",
       "    </tr>\n",
       "  </tbody>\n",
       "</table>\n",
       "</div>"
      ],
      "text/plain": [
       "   age_yr  weight_lb  income_$  height_ft  height_in\n",
       "0       1          2         3          4          5\n",
       "1       6          7         8          9         10"
      ]
     },
     "execution_count": 37,
     "metadata": {},
     "output_type": "execute_result"
    }
   ],
   "source": [
    "# Rename the columns \n",
    "myDF.columns = [\"age_yr\", \"weight_lb\", \"income_$\", \"height_ft\", \"height_in\"]\n",
    "myDF"
   ]
  },
  {
   "cell_type": "code",
   "execution_count": 38,
   "id": "017f8aac",
   "metadata": {},
   "outputs": [
    {
     "data": {
      "text/plain": [
       "0    1\n",
       "1    6\n",
       "Name: age_yr, dtype: int64"
      ]
     },
     "execution_count": 38,
     "metadata": {},
     "output_type": "execute_result"
    }
   ],
   "source": [
    "# investigate one column (index is the left column, value is the right column)\n",
    "myDF['age_yr']"
   ]
  },
  {
   "cell_type": "code",
   "execution_count": 41,
   "id": "f0f61d41",
   "metadata": {},
   "outputs": [
    {
     "data": {
      "text/plain": [
       "0     3\n",
       "1    13\n",
       "Name: nonsense, dtype: int64"
      ]
     },
     "execution_count": 41,
     "metadata": {},
     "output_type": "execute_result"
    }
   ],
   "source": [
    "# Create a new column\n",
    "myDF['nonsense'] = myDF['age_yr'] + myDF['weight_lb']\n",
    "myDF['nonsense'] "
   ]
  },
  {
   "cell_type": "code",
   "execution_count": 46,
   "id": "582bc3a0",
   "metadata": {},
   "outputs": [
    {
     "data": {
      "text/plain": [
       "0     True\n",
       "1    False\n",
       "2    False\n",
       "Name: male, dtype: bool"
      ]
     },
     "execution_count": 46,
     "metadata": {},
     "output_type": "execute_result"
    }
   ],
   "source": [
    "# Create a DataFrame\n",
    "myPpl = pd.DataFrame({\n",
    "    'gender': [\"Male\", \"non-binary\", \"Female\"],\n",
    "    'male': [True, False, False],\n",
    "    'height': [152, 171.5, 165],\n",
    "    'weight': [81, 93, 78],\n",
    "    'age': [42, 38, 26]\n",
    "})\n",
    "\n",
    "# Reference one column (either of these work)\n",
    "myPpl['male']\n",
    "\n"
   ]
  },
  {
   "cell_type": "code",
   "execution_count": 47,
   "id": "7991db66",
   "metadata": {},
   "outputs": [
    {
     "data": {
      "text/plain": [
       "0     True\n",
       "1    False\n",
       "2    False\n",
       "Name: male, dtype: bool"
      ]
     },
     "execution_count": 47,
     "metadata": {},
     "output_type": "execute_result"
    }
   ],
   "source": [
    "myPpl.male"
   ]
  },
  {
   "cell_type": "markdown",
   "id": "16097390",
   "metadata": {},
   "source": [
    "# Functions\n",
    "\n",
    "`def` stands for definition. The syntax for writing a function is different, and is a good example of how white space is important in python (notice that there are no parentheses)."
   ]
  },
  {
   "cell_type": "code",
   "execution_count": 54,
   "id": "98ede072",
   "metadata": {},
   "outputs": [
    {
     "data": {
      "text/plain": [
       "0.25"
      ]
     },
     "execution_count": 54,
     "metadata": {},
     "output_type": "execute_result"
    }
   ],
   "source": [
    "def myF(x):\n",
    "    y = x - x**2\n",
    "    return y\n",
    "\n",
    "myF(.5)"
   ]
  },
  {
   "cell_type": "markdown",
   "id": "0598f86d",
   "metadata": {},
   "source": [
    "# Loops \n",
    "\n",
    "Loops are another example where you can read the code even if you don't know python. However, they have some differnt syntax with the range function, specifically that the last value is excluded. \n"
   ]
  },
  {
   "cell_type": "code",
   "execution_count": 55,
   "id": "95ac71e9",
   "metadata": {},
   "outputs": [
    {
     "name": "stdout",
     "output_type": "stream",
     "text": [
      "1\n",
      "2\n",
      "3\n",
      "4\n"
     ]
    }
   ],
   "source": [
    "# Notice that 5 doesn't print \n",
    "for i in range(1, 5):  # range(start, stop) in Python is inclusive of start and exclusive of stop\n",
    "    print(i)\n"
   ]
  },
  {
   "cell_type": "code",
   "execution_count": 64,
   "id": "32ea3cf4",
   "metadata": {},
   "outputs": [
    {
     "name": "stdout",
     "output_type": "stream",
     "text": [
      "0.1875\n",
      "0.25\n",
      "0.1875\n",
      "0.0\n"
     ]
    }
   ],
   "source": [
    "# combining loop and function\n",
    "for i in range(1,5):\n",
    "    y = myF(i/4)\n",
    "    print(y) "
   ]
  },
  {
   "cell_type": "markdown",
   "id": "695a2bbe",
   "metadata": {},
   "source": [
    "# If Else Statements \n",
    "\n",
    "To do an if else statement, we need to introduce `lambda` functions in python. Lambda functions are one off functions that are simple enough they do not warrant defining. Using lambda functions allows for quick coding, but do reduce the readability of the code. \n",
    "\n",
    "## Lambda Function"
   ]
  },
  {
   "cell_type": "code",
   "execution_count": 65,
   "id": "6f5c2327",
   "metadata": {},
   "outputs": [
    {
     "data": {
      "text/plain": [
       "5"
      ]
     },
     "execution_count": 65,
     "metadata": {},
     "output_type": "execute_result"
    }
   ],
   "source": [
    "# A simple lambda function that adds two numbers\n",
    "myAdd = lambda x, y: x + y\n",
    "\n",
    "myAdd(2,3)"
   ]
  },
  {
   "cell_type": "markdown",
   "id": "04073d50",
   "metadata": {},
   "source": [
    "In the pandas apply functions, axis specifies if you're working across columns or rows. \n",
    "axis = 0: The function is applied to each column. This is the default behavior.\n",
    "axis = 1: The function is applied to each row."
   ]
  },
  {
   "cell_type": "code",
   "execution_count": 69,
   "id": "cc9ce3ca",
   "metadata": {},
   "outputs": [
    {
     "data": {
      "text/html": [
       "<div>\n",
       "<style scoped>\n",
       "    .dataframe tbody tr th:only-of-type {\n",
       "        vertical-align: middle;\n",
       "    }\n",
       "\n",
       "    .dataframe tbody tr th {\n",
       "        vertical-align: top;\n",
       "    }\n",
       "\n",
       "    .dataframe thead th {\n",
       "        text-align: right;\n",
       "    }\n",
       "</style>\n",
       "<table border=\"1\" class=\"dataframe\">\n",
       "  <thead>\n",
       "    <tr style=\"text-align: right;\">\n",
       "      <th></th>\n",
       "      <th>gender</th>\n",
       "      <th>male</th>\n",
       "      <th>height</th>\n",
       "      <th>weight</th>\n",
       "      <th>age</th>\n",
       "      <th>age_new_m</th>\n",
       "    </tr>\n",
       "  </thead>\n",
       "  <tbody>\n",
       "    <tr>\n",
       "      <th>0</th>\n",
       "      <td>Male</td>\n",
       "      <td>True</td>\n",
       "      <td>152.0</td>\n",
       "      <td>81</td>\n",
       "      <td>42</td>\n",
       "      <td>39</td>\n",
       "    </tr>\n",
       "    <tr>\n",
       "      <th>1</th>\n",
       "      <td>non-binary</td>\n",
       "      <td>False</td>\n",
       "      <td>171.5</td>\n",
       "      <td>93</td>\n",
       "      <td>38</td>\n",
       "      <td>38</td>\n",
       "    </tr>\n",
       "    <tr>\n",
       "      <th>2</th>\n",
       "      <td>Female</td>\n",
       "      <td>False</td>\n",
       "      <td>165.0</td>\n",
       "      <td>78</td>\n",
       "      <td>26</td>\n",
       "      <td>26</td>\n",
       "    </tr>\n",
       "  </tbody>\n",
       "</table>\n",
       "</div>"
      ],
      "text/plain": [
       "       gender   male  height  weight  age  age_new_m\n",
       "0        Male   True   152.0      81   42         39\n",
       "1  non-binary  False   171.5      93   38         38\n",
       "2      Female  False   165.0      78   26         26"
      ]
     },
     "execution_count": 69,
     "metadata": {},
     "output_type": "execute_result"
    }
   ],
   "source": [
    "# Using vectorized operations to adjust age if male\n",
    "myPpl['age_new_m'] = myPpl.apply(lambda row: row['age'] - 3 if row['male'] else row['age'], axis=1)\n",
    "myPpl"
   ]
  },
  {
   "cell_type": "markdown",
   "id": "54cb5d9e",
   "metadata": {},
   "source": [
    "# Advanced\n",
    "\n",
    "I wrote this is in a Jupyter Notebook, which is the pythons verion of an R notebook. To write a Jupyter Notebook using R, you need to do a few aditional (and advanced) steps. \n",
    "\n",
    "In an R consol, run `install.packages('IRkernel')`\n",
    "\n",
    "In the Terminal, run `jupyter notebook`\n",
    "\n",
    "This will open up a Jupyter Notebook host in your web browser. You can create a new .ipynb file (aka a Jupyter Notebook). \n",
    "\n",
    "Unlike an R Markdown file, you cannot automatically knit it to an HTML or pdf document. However, you can download it as an HTML, or you can download a LaTex file and compile the LaTex file to a PDF on your computer (which is a more advanced step then downloading the HTML)."
   ]
  },
  {
   "cell_type": "code",
   "execution_count": null,
   "id": "274fdb10",
   "metadata": {},
   "outputs": [],
   "source": []
  },
  {
   "cell_type": "code",
   "execution_count": null,
   "id": "484a3a0c",
   "metadata": {},
   "outputs": [],
   "source": []
  }
 ],
 "metadata": {
  "kernelspec": {
   "display_name": "Python 3 (ipykernel)",
   "language": "python",
   "name": "python3"
  },
  "language_info": {
   "codemirror_mode": {
    "name": "ipython",
    "version": 3
   },
   "file_extension": ".py",
   "mimetype": "text/x-python",
   "name": "python",
   "nbconvert_exporter": "python",
   "pygments_lexer": "ipython3",
   "version": "3.11.5"
  }
 },
 "nbformat": 4,
 "nbformat_minor": 5
}
