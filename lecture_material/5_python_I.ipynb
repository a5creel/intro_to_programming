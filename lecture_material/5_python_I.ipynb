{
 "cells": [
  {
   "cell_type": "markdown",
   "id": "b898a7cf",
   "metadata": {},
   "source": [
    "# Coding is Just Coding \n",
    "Prepared by Andie Creel for the Into to Programming Workshop at YSE \n",
    "\n",
    "# Google Collab\n",
    "Today, we will be using Google Collab to write Python code in a notebook environment. \n",
    "\n",
    "Go to [https://colab.research.google.com/](https://colab.research.google.com/) and create a New Notebook. You do need a Google Account to do this. Once in this environment, we can write text (like this) and code (like the chunks below). \n",
    "\n",
    "# Goal for Today\n",
    "\n",
    "Once you learn one coding language, you can read (and sometimes even write) in a lot of other coding languages. Today we're going to go through how to code what we did on the first day in Python (another popular coding language). The syntax is slightly different, but you can still read a lot of it. The point of this is to realize that if someone hands you a code script in a different language, you shouldn't freak out. \n",
    "\n",
    "Let's run our first line of code in Python."
   ]
  },
  {
   "cell_type": "code",
   "execution_count": 1,
   "id": "f8c4671b",
   "metadata": {},
   "outputs": [
    {
     "name": "stdout",
     "output_type": "stream",
     "text": [
      "Hello World\n"
     ]
    }
   ],
   "source": [
    "print(\"Hello World\")"
   ]
  },
  {
   "cell_type": "markdown",
   "id": "9f22d39a",
   "metadata": {},
   "source": [
    "# Basic Data Types\n",
    "Let's revist our basic data types. "
   ]
  },
  {
   "cell_type": "code",
   "execution_count": 2,
   "id": "ea948510",
   "metadata": {},
   "outputs": [
    {
     "data": {
      "text/plain": [
       "5"
      ]
     },
     "execution_count": 2,
     "metadata": {},
     "output_type": "execute_result"
    }
   ],
   "source": [
    "# Run basic arithmatic \n",
    "2 + 3"
   ]
  },
  {
   "cell_type": "code",
   "execution_count": 3,
   "id": "dc55d8a5",
   "metadata": {},
   "outputs": [
    {
     "data": {
      "text/plain": [
       "5"
      ]
     },
     "execution_count": 3,
     "metadata": {},
     "output_type": "execute_result"
    }
   ],
   "source": [
    "# variable assingment is done with an '=' sign, instead of the '<-' sign\n",
    "a = 2\n",
    "b = 3\n",
    "a+b"
   ]
  },
  {
   "cell_type": "code",
   "execution_count": 4,
   "id": "12d78df3",
   "metadata": {},
   "outputs": [
    {
     "data": {
      "text/plain": [
       "9"
      ]
     },
     "execution_count": 4,
     "metadata": {},
     "output_type": "execute_result"
    }
   ],
   "source": [
    "# Let's change the value of a, demonstating that it's a variable\n",
    "a = 6\n",
    "a+b"
   ]
  },
  {
   "cell_type": "markdown",
   "id": "131fab10",
   "metadata": {},
   "source": [
    "Now, let's revisit our basic data types."
   ]
  },
  {
   "cell_type": "code",
   "execution_count": 5,
   "id": "d11a3a8b",
   "metadata": {},
   "outputs": [
    {
     "name": "stdout",
     "output_type": "stream",
     "text": [
      "1\n"
     ]
    },
    {
     "data": {
      "text/plain": [
       "2.4"
      ]
     },
     "execution_count": 5,
     "metadata": {},
     "output_type": "execute_result"
    }
   ],
   "source": [
    "# Numeric -- integer: no decimal points\n",
    "myInt = 1\n",
    "print(myInt) # In python, we need to print anything we'd like to see at the end of our notebook\n",
    "\n",
    "# Numeric -- floating point: decimal points\n",
    "myNum = 2.4\n",
    "myNum # if we hadn't used print, we would have seen the last line of the cell only "
   ]
  },
  {
   "cell_type": "code",
   "execution_count": 6,
   "id": "e4009725",
   "metadata": {},
   "outputs": [
    {
     "name": "stdout",
     "output_type": "stream",
     "text": [
      "a\n"
     ]
    },
    {
     "data": {
      "text/plain": [
       "'b'"
      ]
     },
     "execution_count": 6,
     "metadata": {},
     "output_type": "execute_result"
    }
   ],
   "source": [
    "# character (string)\n",
    "myChar_a = 'a'\n",
    "print(myChar_a) # a flag with the print statement: it wont print the '' around the character\n",
    "\n",
    "myChar_b = 'b'\n",
    "myChar_b"
   ]
  },
  {
   "cell_type": "code",
   "execution_count": 7,
   "id": "d2b23bbf",
   "metadata": {},
   "outputs": [
    {
     "name": "stdout",
     "output_type": "stream",
     "text": [
      "True\n",
      "False\n"
     ]
    }
   ],
   "source": [
    "# logical (Boolean): a true/false statement. Use parentheses to evaluate if something is true or false\n",
    "myBool_1 = (3 < 4)\n",
    "print(myBool_1)\n",
    "\n",
    "myBool_2 = (3 > 4)\n",
    "print(myBool_2)"
   ]
  },
  {
   "cell_type": "code",
   "execution_count": 8,
   "id": "59a58ce0",
   "metadata": {},
   "outputs": [
    {
     "data": {
      "text/plain": [
       "'1'"
      ]
     },
     "execution_count": 8,
     "metadata": {},
     "output_type": "execute_result"
    }
   ],
   "source": [
    "# we can till have \"tricky\" variables like in R\n",
    "trick_q = \"1\"\n",
    "trick_q"
   ]
  },
  {
   "cell_type": "markdown",
   "id": "f8188b57",
   "metadata": {},
   "source": [
    "Now, with the print statement, we didn't see the '' symbol to remind us that `myChar_a` is a character data type. This is a feature of the `print()` and how it interacts with strings/character variables. \n",
    "\n",
    "With `trick_q` we did see the '' again because we  returned the variable at the end of the notebook cell (instead of using `print()`). Python's (and R's) ability to infer a variable's type without explicit type declarations is known as **dynamic typing**. \n",
    "\n",
    "In dynamically typed languages like Python and R, the type of a variable is determined at runtime, and you do not need to declare the type explicitly when you create the variable. This allows for more flexibility in coding, as the same variable can hold different types of data at different times during execution. However, you as the programmer need to be aware of what data type you intend your variable to be and make sure Python or R has inferred the data type correctly. "
   ]
  },
  {
   "cell_type": "markdown",
   "id": "bcab286a",
   "metadata": {},
   "source": [
    "# Ways to store datatypes  \n",
    "\n",
    "You will need the `numpy` package. NumPy is the main package for scientific computing in python. It's already installed in Google Collab, so we just need to import it. \n",
    "\n",
    "## Vectors and Matrices\n",
    "\n",
    "Notice that indexing in python starts at 0, rather than 1 (as it did in R). In python, we just use lists instead of vectors. "
   ]
  },
  {
   "cell_type": "code",
   "execution_count": 9,
   "id": "15a806c4",
   "metadata": {},
   "outputs": [
    {
     "name": "stdout",
     "output_type": "stream",
     "text": [
      "1\n",
      "str\n",
      "['str', 1, True]\n"
     ]
    }
   ],
   "source": [
    "import numpy as np\n",
    "\n",
    "# Lists can contain elements of different data types\n",
    "myList_n = [1, 2, 3, 4, 5] \n",
    "print(myList_n[0])\n",
    "\n",
    "myList_s = [\"str\", \"b\", \"c\"]\n",
    "print(myList_s[0])\n",
    "\n",
    "myList_all = [\"str\", 1, True]\n",
    "print(myList_all)\n",
    "\n"
   ]
  },
  {
   "cell_type": "code",
   "execution_count": 10,
   "id": "d7e0aa9d",
   "metadata": {},
   "outputs": [
    {
     "data": {
      "text/plain": [
       "array([[ 1,  2,  3,  4,  5],\n",
       "       [ 6,  7,  8,  9, 10]])"
      ]
     },
     "execution_count": 10,
     "metadata": {},
     "output_type": "execute_result"
    }
   ],
   "source": [
    "\n",
    "# NumPy array (similar to R matrix): should contain elements of the same data type\n",
    "# In this case, we're creating a 2x5 matrix\n",
    "# the . here works similar to %>% in dplyr \n",
    "myMat_n = np.array([1, 2, 3, 4, 5, 6, 7, 8, 9, 10]).reshape(2, 5)\n",
    "myMat_n"
   ]
  },
  {
   "cell_type": "markdown",
   "id": "e461cdc3",
   "metadata": {},
   "source": [
    "## Lists"
   ]
  },
  {
   "cell_type": "code",
   "execution_count": 11,
   "id": "a6273eef",
   "metadata": {},
   "outputs": [
    {
     "data": {
      "text/plain": [
       "2"
      ]
     },
     "execution_count": 11,
     "metadata": {},
     "output_type": "execute_result"
    }
   ],
   "source": [
    "# Lists: Can contain elements of different data types, including other lists or arrays\n",
    "myList = [2, \"c\", myMat_n]\n",
    "\n",
    "# Accessing the first element of the list\n",
    "myList[0]  # returns numeric (2 in this case)\n"
   ]
  },
  {
   "cell_type": "code",
   "execution_count": 12,
   "id": "059fe833",
   "metadata": {},
   "outputs": [
    {
     "data": {
      "text/plain": [
       "'c'"
      ]
     },
     "execution_count": 12,
     "metadata": {},
     "output_type": "execute_result"
    }
   ],
   "source": [
    "myList[1] # returns C"
   ]
  },
  {
   "cell_type": "code",
   "execution_count": 13,
   "id": "e9f6385e",
   "metadata": {},
   "outputs": [
    {
     "data": {
      "text/plain": [
       "array([[ 1,  2,  3,  4,  5],\n",
       "       [ 6,  7,  8,  9, 10]])"
      ]
     },
     "execution_count": 13,
     "metadata": {},
     "output_type": "execute_result"
    }
   ],
   "source": [
    "myList[2] # returns the matrix"
   ]
  },
  {
   "cell_type": "markdown",
   "id": "91226884",
   "metadata": {},
   "source": [
    "## Dataframes\n",
    "\n",
    "To work with data frames, we need to load the `pandas` package. "
   ]
  },
  {
   "cell_type": "code",
   "execution_count": 14,
   "id": "63e0bdf9",
   "metadata": {},
   "outputs": [
    {
     "data": {
      "text/html": [
       "<div>\n",
       "<style scoped>\n",
       "    .dataframe tbody tr th:only-of-type {\n",
       "        vertical-align: middle;\n",
       "    }\n",
       "\n",
       "    .dataframe tbody tr th {\n",
       "        vertical-align: top;\n",
       "    }\n",
       "\n",
       "    .dataframe thead th {\n",
       "        text-align: right;\n",
       "    }\n",
       "</style>\n",
       "<table border=\"1\" class=\"dataframe\">\n",
       "  <thead>\n",
       "    <tr style=\"text-align: right;\">\n",
       "      <th></th>\n",
       "      <th>0</th>\n",
       "      <th>1</th>\n",
       "      <th>2</th>\n",
       "      <th>3</th>\n",
       "      <th>4</th>\n",
       "    </tr>\n",
       "  </thead>\n",
       "  <tbody>\n",
       "    <tr>\n",
       "      <th>0</th>\n",
       "      <td>1</td>\n",
       "      <td>2</td>\n",
       "      <td>3</td>\n",
       "      <td>4</td>\n",
       "      <td>5</td>\n",
       "    </tr>\n",
       "    <tr>\n",
       "      <th>1</th>\n",
       "      <td>6</td>\n",
       "      <td>7</td>\n",
       "      <td>8</td>\n",
       "      <td>9</td>\n",
       "      <td>10</td>\n",
       "    </tr>\n",
       "  </tbody>\n",
       "</table>\n",
       "</div>"
      ],
      "text/plain": [
       "   0  1  2  3   4\n",
       "0  1  2  3  4   5\n",
       "1  6  7  8  9  10"
      ]
     },
     "execution_count": 14,
     "metadata": {},
     "output_type": "execute_result"
    }
   ],
   "source": [
    "import pandas as pd \n",
    "\n",
    "# Create a DataFrame from the NumPy array\n",
    "myDF = pd.DataFrame(myMat_n)\n",
    "myDF\n"
   ]
  },
  {
   "cell_type": "code",
   "execution_count": 30,
   "id": "9fb8b7e2",
   "metadata": {},
   "outputs": [
    {
     "name": "stdout",
     "output_type": "stream",
     "text": [
      "Index(['num_hunts', 'temp', 'num_adults', 'num_cubs', 'distance_from_road',\n",
      "       'total_lions'],\n",
      "      dtype='object')\n"
     ]
    }
   ],
   "source": [
    "# Print column names (initially they are just integer indices)\n",
    "print(myDF.columns)"
   ]
  },
  {
   "cell_type": "markdown",
   "id": "054e4e84",
   "metadata": {},
   "source": [
    "Unlike R, python automatically names unamed columns with integrers. But like R, these are not informative. "
   ]
  },
  {
   "cell_type": "code",
   "execution_count": 16,
   "id": "033456c0",
   "metadata": {},
   "outputs": [
    {
     "data": {
      "text/html": [
       "<div>\n",
       "<style scoped>\n",
       "    .dataframe tbody tr th:only-of-type {\n",
       "        vertical-align: middle;\n",
       "    }\n",
       "\n",
       "    .dataframe tbody tr th {\n",
       "        vertical-align: top;\n",
       "    }\n",
       "\n",
       "    .dataframe thead th {\n",
       "        text-align: right;\n",
       "    }\n",
       "</style>\n",
       "<table border=\"1\" class=\"dataframe\">\n",
       "  <thead>\n",
       "    <tr style=\"text-align: right;\">\n",
       "      <th></th>\n",
       "      <th>num_hunts</th>\n",
       "      <th>temp</th>\n",
       "      <th>num_adults</th>\n",
       "      <th>num_cubs</th>\n",
       "      <th>distance_from_road</th>\n",
       "    </tr>\n",
       "  </thead>\n",
       "  <tbody>\n",
       "    <tr>\n",
       "      <th>0</th>\n",
       "      <td>1</td>\n",
       "      <td>2</td>\n",
       "      <td>3</td>\n",
       "      <td>4</td>\n",
       "      <td>5</td>\n",
       "    </tr>\n",
       "    <tr>\n",
       "      <th>1</th>\n",
       "      <td>6</td>\n",
       "      <td>7</td>\n",
       "      <td>8</td>\n",
       "      <td>9</td>\n",
       "      <td>10</td>\n",
       "    </tr>\n",
       "  </tbody>\n",
       "</table>\n",
       "</div>"
      ],
      "text/plain": [
       "   num_hunts  temp  num_adults  num_cubs  distance_from_road\n",
       "0          1     2           3         4                   5\n",
       "1          6     7           8         9                  10"
      ]
     },
     "execution_count": 16,
     "metadata": {},
     "output_type": "execute_result"
    }
   ],
   "source": [
    "# Rename the columns \n",
    "myDF.columns = [\"num_hunts\", \"temp\", \"num_adults\", \"num_cubs\", \"distance_from_road\"]\n",
    "myDF"
   ]
  },
  {
   "cell_type": "markdown",
   "id": "a422985d",
   "metadata": {},
   "source": [
    "There are two ways too look at columns in Python. `[]` notation and then `.` notation. The bracket notation is the same as R (except the index starts at 0 instead of 1). The period notation is similar to the $ notation. "
   ]
  },
  {
   "cell_type": "code",
   "execution_count": 17,
   "id": "017f8aac",
   "metadata": {},
   "outputs": [
    {
     "data": {
      "text/plain": [
       "0    3\n",
       "1    8\n",
       "Name: num_adults, dtype: int64"
      ]
     },
     "execution_count": 17,
     "metadata": {},
     "output_type": "execute_result"
    }
   ],
   "source": [
    "# investigate one column with [] notation\n",
    "myDF['num_adults']"
   ]
  },
  {
   "cell_type": "code",
   "execution_count": 18,
   "id": "f918c577",
   "metadata": {},
   "outputs": [
    {
     "data": {
      "text/plain": [
       "0    3\n",
       "1    8\n",
       "Name: num_adults, dtype: int64"
      ]
     },
     "execution_count": 18,
     "metadata": {},
     "output_type": "execute_result"
    }
   ],
   "source": [
    "# investigate one column with . notation\n",
    "myDF.num_adults"
   ]
  },
  {
   "cell_type": "code",
   "execution_count": 19,
   "id": "f0f61d41",
   "metadata": {},
   "outputs": [
    {
     "data": {
      "text/plain": [
       "0     7\n",
       "1    17\n",
       "Name: total_lions, dtype: int64"
      ]
     },
     "execution_count": 19,
     "metadata": {},
     "output_type": "execute_result"
    }
   ],
   "source": [
    "# Create a new column (you can only create a column with the [] notation)\n",
    "myDF['total_lions'] = myDF['num_adults'] + myDF['num_cubs']\n",
    "myDF['total_lions']"
   ]
  },
  {
   "cell_type": "markdown",
   "id": "61988f7b",
   "metadata": {},
   "source": [
    "### Example \n",
    "Let's build a DataFrame with multiple data types "
   ]
  },
  {
   "cell_type": "code",
   "execution_count": 20,
   "id": "582bc3a0",
   "metadata": {},
   "outputs": [
    {
     "data": {
      "text/html": [
       "<div>\n",
       "<style scoped>\n",
       "    .dataframe tbody tr th:only-of-type {\n",
       "        vertical-align: middle;\n",
       "    }\n",
       "\n",
       "    .dataframe tbody tr th {\n",
       "        vertical-align: top;\n",
       "    }\n",
       "\n",
       "    .dataframe thead th {\n",
       "        text-align: right;\n",
       "    }\n",
       "</style>\n",
       "<table border=\"1\" class=\"dataframe\">\n",
       "  <thead>\n",
       "    <tr style=\"text-align: right;\">\n",
       "      <th></th>\n",
       "      <th>name</th>\n",
       "      <th>gender</th>\n",
       "      <th>male</th>\n",
       "      <th>income_cat</th>\n",
       "      <th>park_dist_mi</th>\n",
       "    </tr>\n",
       "  </thead>\n",
       "  <tbody>\n",
       "    <tr>\n",
       "      <th>0</th>\n",
       "      <td>Andie</td>\n",
       "      <td>Female</td>\n",
       "      <td>True</td>\n",
       "      <td>middle</td>\n",
       "      <td>1.0</td>\n",
       "    </tr>\n",
       "    <tr>\n",
       "      <th>1</th>\n",
       "      <td>Bridger</td>\n",
       "      <td>non-binary</td>\n",
       "      <td>False</td>\n",
       "      <td>poor</td>\n",
       "      <td>0.5</td>\n",
       "    </tr>\n",
       "    <tr>\n",
       "      <th>2</th>\n",
       "      <td>Scott</td>\n",
       "      <td>Male</td>\n",
       "      <td>False</td>\n",
       "      <td>rich</td>\n",
       "      <td>0.1</td>\n",
       "    </tr>\n",
       "  </tbody>\n",
       "</table>\n",
       "</div>"
      ],
      "text/plain": [
       "      name      gender   male income_cat  park_dist_mi\n",
       "0    Andie      Female   True     middle           1.0\n",
       "1  Bridger  non-binary  False       poor           0.5\n",
       "2    Scott        Male  False       rich           0.1"
      ]
     },
     "execution_count": 20,
     "metadata": {},
     "output_type": "execute_result"
    }
   ],
   "source": [
    "# Create the DataFrame\n",
    "myPpl = pd.DataFrame({\n",
    "    'name': [\"Andie\", \"Bridger\", \"Scott\"],\n",
    "    'gender': [\"Female\", \"non-binary\", \"Male\"],\n",
    "    'male': [True, False, False],\n",
    "    'income_cat': [\"middle\", \"poor\", \"rich\"],\n",
    "    'park_dist_mi': [1, 0.5, 0.1]\n",
    "})\n",
    "\n",
    "myPpl\n",
    "\n"
   ]
  },
  {
   "cell_type": "markdown",
   "id": "5fbb7b87",
   "metadata": {},
   "source": [
    "Now that we have a dataframe, let's reference column and rows and cells in our multiple ways. "
   ]
  },
  {
   "cell_type": "code",
   "execution_count": 21,
   "id": "7991db66",
   "metadata": {},
   "outputs": [
    {
     "data": {
      "text/plain": [
       "0      Andie\n",
       "1    Bridger\n",
       "2      Scott\n",
       "Name: name, dtype: object"
      ]
     },
     "execution_count": 21,
     "metadata": {},
     "output_type": "execute_result"
    }
   ],
   "source": [
    "# Accessing a column using the . notation\n",
    "myPpl.name"
   ]
  },
  {
   "cell_type": "code",
   "execution_count": 22,
   "id": "81a999c0",
   "metadata": {},
   "outputs": [
    {
     "data": {
      "text/plain": [
       "0      Andie\n",
       "1    Bridger\n",
       "2      Scott\n",
       "Name: name, dtype: object"
      ]
     },
     "execution_count": 22,
     "metadata": {},
     "output_type": "execute_result"
    }
   ],
   "source": [
    "# Accessing a column using the [] notation\n",
    "myPpl['name']"
   ]
  },
  {
   "cell_type": "markdown",
   "id": "91b6085d",
   "metadata": {
    "vscode": {
     "languageId": "markdown"
    }
   },
   "source": [
    "### `.iloc[]` Pandas\n",
    "\n",
    "In pandas, `.iloc` and `.loc` are essential tools for data manipulation and retrieval within DataFrames. \n",
    "They allow you to access and modify data in a DataFrame in different ways.\n",
    "\n",
    "`.iloc[]` is primarily used for integer-location based indexing. It allows you to select rows and columns by their integer positions (i.e., their index numbers). This is useful when you know the exact positions of the rows and columns you want to access.\n",
    "\n",
    "`.loc[]`can be used with index based locating and names.\n"
   ]
  },
  {
   "cell_type": "code",
   "execution_count": 23,
   "id": "af5bd87e",
   "metadata": {},
   "outputs": [
    {
     "data": {
      "text/plain": [
       "name             Andie\n",
       "gender          Female\n",
       "male              True\n",
       "income_cat      middle\n",
       "park_dist_mi       1.0\n",
       "Name: 0, dtype: object"
      ]
     },
     "execution_count": 23,
     "metadata": {},
     "output_type": "execute_result"
    }
   ],
   "source": [
    "# Access the first row using .iloc[]\n",
    "myPpl.iloc[0]\n",
    "\n"
   ]
  },
  {
   "cell_type": "markdown",
   "id": "d7bebb69",
   "metadata": {},
   "source": [
    "We can also use `.iloc[]` to reference a single cell."
   ]
  },
  {
   "cell_type": "code",
   "execution_count": 24,
   "id": "71b94e86",
   "metadata": {},
   "outputs": [
    {
     "name": "stdout",
     "output_type": "stream",
     "text": [
      "Andie\n"
     ]
    },
    {
     "data": {
      "text/plain": [
       "'Andie'"
      ]
     },
     "execution_count": 24,
     "metadata": {},
     "output_type": "execute_result"
    }
   ],
   "source": [
    "# Access the first row of the 'name' column using .iloc[]\n",
    "print(myPpl.iloc[0,0])\n",
    "\n",
    "# Access the first row of the 'name' column using .loc[]\n",
    "myPpl.loc[0, 'name']"
   ]
  },
  {
   "cell_type": "code",
   "execution_count": 25,
   "id": "055b21ae",
   "metadata": {},
   "outputs": [
    {
     "data": {
      "text/plain": [
       "'Bridger'"
      ]
     },
     "execution_count": 25,
     "metadata": {},
     "output_type": "execute_result"
    }
   ],
   "source": [
    "# Access the second row of the 'name' column using .loc[]\n",
    "myPpl.loc[1, 'name']"
   ]
  },
  {
   "cell_type": "markdown",
   "id": "16097390",
   "metadata": {},
   "source": [
    "# Functions\n",
    "\n",
    "`def` stands for definition. The syntax for writing a function is different, and is a good example of how white space is important in python (notice that there are no parentheses).\n",
    "\n",
    "Let's revisit our function that models the relationship between the probability of\n",
    "someone visiting a national park and the temperature (F). You know that people don’t visit the\n",
    "park when it’s very cold, nor when it’s very hot. You model the relationship using the following\n",
    "quadratic equation\n",
    "$$ v = F/100 - (F/100)^2$$\n",
    "\n",
    "where v is visits and F is the temperature.\n",
    "\n",
    "We want to define a function that gets the temperature F and returns the predicted number of trips\n",
    "taken v."
   ]
  },
  {
   "cell_type": "code",
   "execution_count": 26,
   "id": "98ede072",
   "metadata": {},
   "outputs": [
    {
     "name": "stdout",
     "output_type": "stream",
     "text": [
      "0.0\n",
      "0.1875\n",
      "0.25\n",
      "0.1875\n",
      "0.0\n"
     ]
    }
   ],
   "source": [
    "def get_visits(F):\n",
    "    v = F/100 - (F/100)**2\n",
    "    return v\n",
    "\n",
    "print(get_visits(0))\n",
    "print(get_visits(25))\n",
    "print(get_visits(50))\n",
    "print(get_visits(75))\n",
    "print(get_visits(100))"
   ]
  },
  {
   "cell_type": "markdown",
   "id": "05bbf947",
   "metadata": {},
   "source": [
    "We will come back to this after loops! "
   ]
  },
  {
   "cell_type": "markdown",
   "id": "0598f86d",
   "metadata": {},
   "source": [
    "# Loops \n",
    "\n",
    "Loops are another example where you can read the code even if you don't know python. However, they have some differnt syntax with the range function, specifically that the last value is excluded. \n",
    "\n",
    "It's also important to remember when iteracting over a dataframe, the first row or column is indexed with a 0. \n"
   ]
  },
  {
   "cell_type": "code",
   "execution_count": 27,
   "id": "95ac71e9",
   "metadata": {},
   "outputs": [
    {
     "name": "stdout",
     "output_type": "stream",
     "text": [
      "0\n",
      "1\n",
      "2\n",
      "3\n",
      "4\n"
     ]
    }
   ],
   "source": [
    "# Notice that 5 doesn't print \n",
    "for i in range(0, 5):  # range(start, stop) in Python is inclusive of start and exclusive of stop\n",
    "    print(i)\n"
   ]
  },
  {
   "cell_type": "markdown",
   "id": "a3b3fda4",
   "metadata": {},
   "source": [
    "## Combining a loop with a function"
   ]
  },
  {
   "cell_type": "code",
   "execution_count": 28,
   "id": "32ea3cf4",
   "metadata": {},
   "outputs": [
    {
     "name": "stdout",
     "output_type": "stream",
     "text": [
      "[  0.  10.  20.  30.  40.  50.  60.  70.  80.  90. 100.]\n",
      "0.0\n",
      "0.09\n",
      "0.16\n",
      "0.21\n",
      "0.24\n",
      "0.25\n",
      "0.24\n",
      "0.21000000000000002\n",
      "0.15999999999999992\n",
      "0.08999999999999997\n",
      "0.0\n"
     ]
    }
   ],
   "source": [
    "import numpy as np\n",
    "\n",
    "# create the vector to iterate over\n",
    "vec_Fs = np.linspace(0, 100, 11) # np.linspace(start, stop, num) creates a vector of 'num' elements from 'start' to 'stop'\n",
    "print(vec_Fs)\n",
    "\n",
    "\n",
    "for T in vec_Fs:\n",
    "    v = get_visits(T)\n",
    "    print(v) "
   ]
  },
  {
   "cell_type": "markdown",
   "id": "32607f49",
   "metadata": {},
   "source": [
    "# If Else Statement\n",
    "\n",
    "Let's say we want to create a clasification to say if someone is close or far to a park. We can iterate over our dataframe and use an if-else statement.\n",
    "\n",
    "The major thing we need to be aware with in Python is use of the `.loc` funciton, which let's us reference cells with their column names and row index. "
   ]
  },
  {
   "cell_type": "code",
   "execution_count": 29,
   "id": "c8b937c8",
   "metadata": {},
   "outputs": [
    {
     "data": {
      "text/html": [
       "<div>\n",
       "<style scoped>\n",
       "    .dataframe tbody tr th:only-of-type {\n",
       "        vertical-align: middle;\n",
       "    }\n",
       "\n",
       "    .dataframe tbody tr th {\n",
       "        vertical-align: top;\n",
       "    }\n",
       "\n",
       "    .dataframe thead th {\n",
       "        text-align: right;\n",
       "    }\n",
       "</style>\n",
       "<table border=\"1\" class=\"dataframe\">\n",
       "  <thead>\n",
       "    <tr style=\"text-align: right;\">\n",
       "      <th></th>\n",
       "      <th>name</th>\n",
       "      <th>gender</th>\n",
       "      <th>male</th>\n",
       "      <th>income_cat</th>\n",
       "      <th>park_dist_mi</th>\n",
       "      <th>park_dist_cat</th>\n",
       "    </tr>\n",
       "  </thead>\n",
       "  <tbody>\n",
       "    <tr>\n",
       "      <th>0</th>\n",
       "      <td>Andie</td>\n",
       "      <td>Female</td>\n",
       "      <td>True</td>\n",
       "      <td>middle</td>\n",
       "      <td>1.0</td>\n",
       "      <td>far</td>\n",
       "    </tr>\n",
       "    <tr>\n",
       "      <th>1</th>\n",
       "      <td>Bridger</td>\n",
       "      <td>non-binary</td>\n",
       "      <td>False</td>\n",
       "      <td>poor</td>\n",
       "      <td>0.5</td>\n",
       "      <td>close</td>\n",
       "    </tr>\n",
       "    <tr>\n",
       "      <th>2</th>\n",
       "      <td>Scott</td>\n",
       "      <td>Male</td>\n",
       "      <td>False</td>\n",
       "      <td>rich</td>\n",
       "      <td>0.1</td>\n",
       "      <td>close</td>\n",
       "    </tr>\n",
       "  </tbody>\n",
       "</table>\n",
       "</div>"
      ],
      "text/plain": [
       "      name      gender   male income_cat  park_dist_mi park_dist_cat\n",
       "0    Andie      Female   True     middle           1.0           far\n",
       "1  Bridger  non-binary  False       poor           0.5         close\n",
       "2    Scott        Male  False       rich           0.1         close"
      ]
     },
     "execution_count": 29,
     "metadata": {},
     "output_type": "execute_result"
    }
   ],
   "source": [
    "# Create a new var for park distance\n",
    "for i in range(0, len(myPpl)):\n",
    "    if myPpl.loc[i, 'park_dist_mi'] > 0.75:\n",
    "        myPpl.loc[i, 'park_dist_cat'] = 'far'\n",
    "    else:\n",
    "        myPpl.loc[i, 'park_dist_cat'] = 'close'\n",
    "\n",
    "myPpl"
   ]
  }
 ],
 "metadata": {
  "kernelspec": {
   "display_name": "Python (myenv)",
   "language": "python",
   "name": "myenv"
  },
  "language_info": {
   "codemirror_mode": {
    "name": "ipython",
    "version": 3
   },
   "file_extension": ".py",
   "mimetype": "text/x-python",
   "name": "python",
   "nbconvert_exporter": "python",
   "pygments_lexer": "ipython3",
   "version": "3.11.5"
  },
  "nbconvert": {
   "latex": {
    "template": "custom_template.tex",
    "title": "Day 3, Lecture 1: Coding is Coding"
   }
  }
 },
 "nbformat": 4,
 "nbformat_minor": 2
}
